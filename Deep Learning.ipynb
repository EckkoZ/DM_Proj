{
 "cells": [
  {
   "cell_type": "code",
   "execution_count": 35,
   "id": "4b04e7c2-d5e9-4e60-ab39-41b7c8363993",
   "metadata": {},
   "outputs": [],
   "source": [
    "# Path to the Excel files (Correct format)\n",
    "Pistachio16path = r\"/Users/luc/Desktop/Northwestern/2025 Winter Quarter/MLDS 432 Deep Learning/Project/Pistachio_Image_Dataset/Pistachio_Image_Dataset 2/Pistachio_16_Features_Dataset/Pistachio_16_Features_Dataset.xlsx\"\n",
    "\n",
    "acoustic_path = r\"/Users/luc/Desktop/Northwestern/2025 Winter Quarter/MLDS 432 Deep Learning/Project/Acoustic_Extinguisher_Fire_Dataset/Acoustic_Extinguisher_Fire_Dataset.xlsx\"\n",
    "\n",
    "Data_Fruitpath = r\"/Users/luc/Desktop/Northwestern/2025 Winter Quarter/MLDS 432 Deep Learning/Project/Date_Fruit_Datasets/Date_Fruit_Datasets.xlsx\"\n",
    "\n",
    "Dry_Bean_Path = r\"/Users/luc/Desktop/Northwestern/2025 Winter Quarter/MLDS 432 Deep Learning/Project/Dry_Bean_Dataset/Dry_Bean_Dataset.xlsx\"\n",
    "\n",
    "Durum_Wheat_Features_Path = r\"/Users/luc/Desktop/Northwestern/2025 Winter Quarter/MLDS 432 Deep Learning/Project/Durum_Wheat_Dataset/Dataset3-Durum Wheat Features/Durum Wheat Features.xlsx\"\n",
    "\n",
    "Raisin_dataset = r\"/Users/luc/Desktop/Northwestern/2025 Winter Quarter/MLDS 432 Deep Learning/Project/Raisin_Dataset/Raisin_Dataset.xlsx\"\n",
    "\n",
    "Rice_Dataset_Commeo_and_Osmancik = r\"/Users/luc/Desktop/Northwestern/2025 Winter Quarter/MLDS 432 Deep Learning/Project/Rice_Dataset_Commeo_and_Osmancik/Rice_Cammeo_Osmancik.xlsx\"\n",
    "\n",
    "Rice_MSC_Dataset = r\"/Users/luc/Desktop/Northwestern/2025 Winter Quarter/MLDS 432 Deep Learning/Project/Rice_MSC_Dataset/Rice_MSC_Dataset.xlsx\"\n",
    "\n",
    "Acoustic_Extinguisher_Fire_Dataset = r\"/Users/luc/Desktop/Northwestern/2025 Winter Quarter/MLDS 432 Deep Learning/Project/Acoustic_Extinguisher_Fire_Dataset 2/Acoustic_Extinguisher_Fire_Dataset.xlsx\"\n",
    "\n",
    "Data_Fruit_Dataset = r\"/Users/luc/Desktop/Northwestern/2025 Winter Quarter/MLDS 432 Deep Learning/Project/Date_Fruit_Datasets 2/Date_Fruit_Datasets.xlsx\"\n"
   ]
  },
  {
   "cell_type": "code",
   "execution_count": 37,
   "id": "19101c96-8b2a-4753-94ee-749613ae6e17",
   "metadata": {},
   "outputs": [
    {
     "name": "stdout",
     "output_type": "stream",
     "text": [
      "❌ File NOT found: /Users/luc/Desktop/Northwestern/2025 Winter Quarter/MLDS 432 Deep Learning/Project/Pistachio_Image_Dataset/Pistachio_Image_Dataset 2/Pistachio_16_Features_Dataset/Pistachio_16_Features_Dataset.xlsx\n",
      "❌ File NOT found: /Users/luc/Desktop/Northwestern/2025 Winter Quarter/MLDS 432 Deep Learning/Project/Acoustic_Extinguisher_Fire_Dataset/Acoustic_Extinguisher_Fire_Dataset.xlsx\n",
      "❌ File NOT found: /Users/luc/Desktop/Northwestern/2025 Winter Quarter/MLDS 432 Deep Learning/Project/Date_Fruit_Datasets/Date_Fruit_Datasets.xlsx\n",
      "❌ File NOT found: /Users/luc/Desktop/Northwestern/2025 Winter Quarter/MLDS 432 Deep Learning/Project/Dry_Bean_Dataset/Dry_Bean_Dataset.xlsx\n",
      "❌ File NOT found: /Users/luc/Desktop/Northwestern/2025 Winter Quarter/MLDS 432 Deep Learning/Project/Durum_Wheat_Dataset/Dataset3-Durum Wheat Features/Durum Wheat Features.xlsx\n",
      "❌ File NOT found: /Users/luc/Desktop/Northwestern/2025 Winter Quarter/MLDS 432 Deep Learning/Project/Raisin_Dataset/Raisin_Dataset.xlsx\n",
      "❌ File NOT found: /Users/luc/Desktop/Northwestern/2025 Winter Quarter/MLDS 432 Deep Learning/Project/Rice_Dataset_Commeo_and_Osmancik/Rice_Cammeo_Osmancik.xlsx\n",
      "❌ File NOT found: /Users/luc/Desktop/Northwestern/2025 Winter Quarter/MLDS 432 Deep Learning/Project/Rice_MSC_Dataset/Rice_MSC_Dataset.xlsx\n",
      "❌ File NOT found: /Users/luc/Desktop/Northwestern/2025 Winter Quarter/MLDS 432 Deep Learning/Project/Acoustic_Extinguisher_Fire_Dataset 2/Acoustic_Extinguisher_Fire_Dataset.xlsx\n",
      "❌ File NOT found: /Users/luc/Desktop/Northwestern/2025 Winter Quarter/MLDS 432 Deep Learning/Project/Date_Fruit_Datasets 2/Date_Fruit_Datasets.xlsx\n"
     ]
    }
   ],
   "source": [
    "import os\n",
    "\n",
    "file_paths = [\n",
    "    Pistachio16path,\n",
    "    acoustic_path,\n",
    "    Data_Fruitpath,\n",
    "    Dry_Bean_Path,\n",
    "    Durum_Wheat_Features_Path,\n",
    "    Raisin_dataset,\n",
    "    Rice_Dataset_Commeo_and_Osmancik,\n",
    "    Rice_MSC_Dataset,\n",
    "    Acoustic_Extinguisher_Fire_Dataset,\n",
    "    Data_Fruit_Dataset\n",
    "]\n",
    "\n",
    "for path in file_paths:\n",
    "    if os.path.exists(path):\n",
    "        print(f\"✅ File found: {path}\")\n",
    "    else:\n",
    "        print(f\"❌ File NOT found: {path}\")\n"
   ]
  },
  {
   "cell_type": "code",
   "execution_count": 25,
   "id": "5d3abb90-6fbc-4db8-b1e7-e83399fa46d9",
   "metadata": {},
   "outputs": [
    {
     "name": "stdout",
     "output_type": "stream",
     "text": [
      "❌ File NOT found: Pistachio_16_Features - /Users/luc/Desktop/Northwestern/2025 Winter Quarter/MLDS 432 Deep Learning/Project/Pistachio_Image_Dataset/Pistachio_Image_Dataset 2/Pistachio_16_Features_Dataset/Pistachio_16_Features_Dataset.xlsx\n",
      "❌ File NOT found: Acoustic_Extinguisher_Fire - /Users/luc/Desktop/Northwestern/2025 Winter Quarter/MLDS 432 Deep Learning/Project/Acoustic_Extinguisher_Fire_Dataset/Acoustic_Extinguisher_Fire_Dataset.xlsx\n",
      "❌ File NOT found: Date_Fruit - /Users/luc/Desktop/Northwestern/2025 Winter Quarter/MLDS 432 Deep Learning/Project/Date_Fruit_Datasets/Date_Fruit_Datasets.xlsx\n",
      "❌ File NOT found: Dry_Bean - /Users/luc/Desktop/Northwestern/2025 Winter Quarter/MLDS 432 Deep Learning/Project/Dry_Bean_Dataset/Dry_Bean_Dataset.xlsx\n",
      "❌ File NOT found: Durum_Wheat_Features - /Users/luc/Desktop/Northwestern/2025 Winter Quarter/MLDS 432 Deep Learning/Project/Durum_Wheat_Dataset/Dataset3-Durum Wheat Features/Durum Wheat Features.xlsx\n",
      "❌ File NOT found: Raisin - /Users/luc/Desktop/Northwestern/2025 Winter Quarter/MLDS 432 Deep Learning/Project/Raisin_Dataset/Raisin_Dataset.xlsx\n",
      "❌ File NOT found: Rice_Cammeo_Osmancik - /Users/luc/Desktop/Northwestern/2025 Winter Quarter/MLDS 432 Deep Learning/Project/Rice_Dataset_Commeo_and_Osmancik/Rice_Cammeo_Osmancik.xlsx\n",
      "❌ File NOT found: Rice_MSC - /Users/luc/Desktop/Northwestern/2025 Winter Quarter/MLDS 432 Deep Learning/Project/Rice_MSC_Dataset/Rice_MSC_Dataset.xlsx\n",
      "❌ File NOT found: Acoustic_Extinguisher_Fire_2 - /Users/luc/Desktop/Northwestern/2025 Winter Quarter/MLDS 432 Deep Learning/Project/Acoustic_Extinguisher_Fire_Dataset 2/Acoustic_Extinguisher_Fire_Dataset.xlsx\n",
      "❌ File NOT found: Date_Fruit_2 - /Users/luc/Desktop/Northwestern/2025 Winter Quarter/MLDS 432 Deep Learning/Project/Date_Fruit_Datasets 2/Date_Fruit_Datasets.xlsx\n"
     ]
    }
   ],
   "source": [
    "import os\n",
    "\n",
    "# List of file paths\n",
    "file_paths = {\n",
    "    \"Pistachio_16_Features\": \"/Users/luc/Desktop/Northwestern/2025 Winter Quarter/MLDS 432 Deep Learning/Project/Pistachio_Image_Dataset/Pistachio_Image_Dataset 2/Pistachio_16_Features_Dataset/Pistachio_16_Features_Dataset.xlsx\",\n",
    "    \"Acoustic_Extinguisher_Fire\": \"/Users/luc/Desktop/Northwestern/2025 Winter Quarter/MLDS 432 Deep Learning/Project/Acoustic_Extinguisher_Fire_Dataset/Acoustic_Extinguisher_Fire_Dataset.xlsx\",\n",
    "    \"Date_Fruit\": \"/Users/luc/Desktop/Northwestern/2025 Winter Quarter/MLDS 432 Deep Learning/Project/Date_Fruit_Datasets/Date_Fruit_Datasets.xlsx\",\n",
    "    \"Dry_Bean\": \"/Users/luc/Desktop/Northwestern/2025 Winter Quarter/MLDS 432 Deep Learning/Project/Dry_Bean_Dataset/Dry_Bean_Dataset.xlsx\",\n",
    "    \"Durum_Wheat_Features\": \"/Users/luc/Desktop/Northwestern/2025 Winter Quarter/MLDS 432 Deep Learning/Project/Durum_Wheat_Dataset/Dataset3-Durum Wheat Features/Durum Wheat Features.xlsx\",\n",
    "    \"Raisin\": \"/Users/luc/Desktop/Northwestern/2025 Winter Quarter/MLDS 432 Deep Learning/Project/Raisin_Dataset/Raisin_Dataset.xlsx\",\n",
    "    \"Rice_Cammeo_Osmancik\": \"/Users/luc/Desktop/Northwestern/2025 Winter Quarter/MLDS 432 Deep Learning/Project/Rice_Dataset_Commeo_and_Osmancik/Rice_Cammeo_Osmancik.xlsx\",\n",
    "    \"Rice_MSC\": \"/Users/luc/Desktop/Northwestern/2025 Winter Quarter/MLDS 432 Deep Learning/Project/Rice_MSC_Dataset/Rice_MSC_Dataset.xlsx\",\n",
    "    \"Acoustic_Extinguisher_Fire_2\": \"/Users/luc/Desktop/Northwestern/2025 Winter Quarter/MLDS 432 Deep Learning/Project/Acoustic_Extinguisher_Fire_Dataset 2/Acoustic_Extinguisher_Fire_Dataset.xlsx\",\n",
    "    \"Date_Fruit_2\": \"/Users/luc/Desktop/Northwestern/2025 Winter Quarter/MLDS 432 Deep Learning/Project/Date_Fruit_Datasets 2/Date_Fruit_Datasets.xlsx\"\n",
    "}\n",
    "\n",
    "# Check if each file exists\n",
    "for name, path in file_paths.items():\n",
    "    if os.path.exists(path):\n",
    "        print(f\"✅ File found: {name}\")\n",
    "    else:\n",
    "        print(f\"❌ File NOT found: {name} - {path}\")\n"
   ]
  },
  {
   "cell_type": "code",
   "execution_count": null,
   "id": "370b0751-c2fe-4509-8acd-a90be578bb29",
   "metadata": {},
   "outputs": [],
   "source": []
  }
 ],
 "metadata": {
  "kernelspec": {
   "display_name": "Python 3 (ipykernel)",
   "language": "python",
   "name": "python3"
  },
  "language_info": {
   "codemirror_mode": {
    "name": "ipython",
    "version": 3
   },
   "file_extension": ".py",
   "mimetype": "text/x-python",
   "name": "python",
   "nbconvert_exporter": "python",
   "pygments_lexer": "ipython3",
   "version": "3.12.2"
  }
 },
 "nbformat": 4,
 "nbformat_minor": 5
}
